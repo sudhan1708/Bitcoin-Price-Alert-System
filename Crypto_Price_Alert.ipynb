{
  "nbformat": 4,
  "nbformat_minor": 0,
  "metadata": {
    "colab": {
      "name": "Crypto Price Alert.ipynb",
      "provenance": [],
      "collapsed_sections": []
    },
    "kernelspec": {
      "name": "python3",
      "display_name": "Python 3"
    },
    "language_info": {
      "name": "python"
    }
  },
  "cells": [
    {
      "cell_type": "code",
      "metadata": {
        "id": "KsqVzkS6cJD0"
      },
      "source": [
        "from bs4 import BeautifulSoup\n",
        "import requests\n",
        "import time\n",
        "import smtplib \n",
        "import ssl\n",
        "from email.mime.text import MIMEText as MT\n",
        "from email.mime.multipart import MIMEMultipart as MM"
      ],
      "execution_count": null,
      "outputs": []
    },
    {
      "cell_type": "code",
      "metadata": {
        "id": "vJJWTkwKdDQp"
      },
      "source": [
        "def get_price():\n",
        "  url = 'https://api.coingecko.com/api/v3/coins/markets?vs_currency=USD&order=market_cap_d'\n",
        "  \n",
        "  contents =requests.get(url)\n",
        "  d = contents.json()\n",
        "  return d[0][\"current_price\"]\n",
        "  \n",
        "  \n"
      ],
      "execution_count": null,
      "outputs": []
    },
    {
      "cell_type": "code",
      "metadata": {
        "id": "Jwhn6vVXer_o"
      },
      "source": [
        "receiver = '<receiver email>'\n",
        "sender = '<sender mail>'\n",
        "pwd = '<your password'
      ],
      "execution_count": null,
      "outputs": []
    },
    {
      "cell_type": "code",
      "metadata": {
        "id": "s8Fagv3ze3xU"
      },
      "source": [
        "#function to send emails\n",
        "\n",
        "def send_email(sender,receiver,pwd,price):\n",
        "  msg = MM()\n",
        "  msg['Subject'] = \"BIT COIN PRICE ALERT!!!\" \n",
        "  msg['From'] = sender\n",
        "  msg['To'] = receiver\n",
        "\n",
        "  html = \"\"\"\n",
        "        <html>\n",
        "          <body>\n",
        "            <h1>  New Price   </h2>\n",
        "            <h2>\"\"\" + price +\"\"\" <h2>\n",
        "          </body>\n",
        "        </html>  \n",
        "\n",
        "        \"\"\"\n",
        "  mtobj = MT(html,\"html\")\n",
        "  msg.attach(mtobj)      \n",
        "\n",
        "  #creating SSL Layer object\n",
        "  SSL_context = ssl.create_default_context()\n",
        "\n",
        "  #creating SMTP connection\n",
        "  server = smtplib.SMTP_SSL(host='smtp.gmail.com',port = 465,context=SSL_context)\n",
        "\n",
        "  server.login(sender,pwd)\n",
        "\n",
        "  server.sendmail(sender,receiver,msg.as_string())"
      ],
      "execution_count": null,
      "outputs": []
    },
    {
      "cell_type": "code",
      "metadata": {
        "id": "fffK2brghZDf"
      },
      "source": [
        "def alert():\n",
        "  last_price = - 1;\n",
        "  curr_price = get_price()\n",
        "\n",
        "  while(last_price != curr_price):\n",
        "    message = 'Current Bitcoin price is ' + str(curr_price)\n",
        "    print(message)\n",
        "    send_email(sender,receiver,pwd,message)\n",
        "    last_price = curr_price\n",
        "    curr_price = get_price()"
      ],
      "execution_count": null,
      "outputs": []
    },
    {
      "cell_type": "code",
      "metadata": {
        "id": "zdgW4-yii81f"
      },
      "source": [
        "alert()"
      ],
      "execution_count": null,
      "outputs": []
    },
    {
      "cell_type": "code",
      "metadata": {
        "id": "bm7e2hXQvnQY"
      },
      "source": [
        ""
      ],
      "execution_count": null,
      "outputs": []
    }
  ]
}
